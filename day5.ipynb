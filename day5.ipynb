{
  "nbformat": 4,
  "nbformat_minor": 0,
  "metadata": {
    "colab": {
      "name": "day5.ipynb",
      "provenance": [],
      "mount_file_id": "1gyYx2IJbBa40JmNKoaQ4PvVx9gmFU8v7",
      "authorship_tag": "ABX9TyNUyGzQIyziojBQu+Et0L+R",
      "include_colab_link": true
    },
    "kernelspec": {
      "name": "python3",
      "display_name": "Python 3"
    },
    "accelerator": "GPU"
  },
  "cells": [
    {
      "cell_type": "markdown",
      "metadata": {
        "id": "view-in-github",
        "colab_type": "text"
      },
      "source": [
        "<a href=\"https://colab.research.google.com/github/AlinaSz/dw_matrix_road_sign/blob/master/day5.ipynb\" target=\"_parent\"><img src=\"https://colab.research.google.com/assets/colab-badge.svg\" alt=\"Open In Colab\"/></a>"
      ]
    },
    {
      "cell_type": "code",
      "metadata": {
        "id": "gm_wh_xRJuGb",
        "colab_type": "code",
        "colab": {
          "base_uri": "https://localhost:8080/",
          "height": 183
        },
        "outputId": "d687ca85-e63d-4730-8df5-fe7a128b1eca"
      },
      "source": [
        "!pip install hyperopt"
      ],
      "execution_count": 1,
      "outputs": [
        {
          "output_type": "stream",
          "text": [
            "Requirement already satisfied: hyperopt in /usr/local/lib/python3.6/dist-packages (0.1.2)\n",
            "Requirement already satisfied: numpy in /usr/local/lib/python3.6/dist-packages (from hyperopt) (1.18.2)\n",
            "Requirement already satisfied: scipy in /usr/local/lib/python3.6/dist-packages (from hyperopt) (1.4.1)\n",
            "Requirement already satisfied: six in /usr/local/lib/python3.6/dist-packages (from hyperopt) (1.12.0)\n",
            "Requirement already satisfied: networkx in /usr/local/lib/python3.6/dist-packages (from hyperopt) (2.4)\n",
            "Requirement already satisfied: tqdm in /usr/local/lib/python3.6/dist-packages (from hyperopt) (4.38.0)\n",
            "Requirement already satisfied: pymongo in /usr/local/lib/python3.6/dist-packages (from hyperopt) (3.10.1)\n",
            "Requirement already satisfied: future in /usr/local/lib/python3.6/dist-packages (from hyperopt) (0.16.0)\n",
            "Requirement already satisfied: decorator>=4.3.0 in /usr/local/lib/python3.6/dist-packages (from networkx->hyperopt) (4.4.2)\n"
          ],
          "name": "stdout"
        }
      ]
    },
    {
      "cell_type": "code",
      "metadata": {
        "id": "lw-dkER1Kspe",
        "colab_type": "code",
        "colab": {
          "base_uri": "https://localhost:8080/",
          "height": 54
        },
        "outputId": "69993374-be85-45f3-8e61-be45603cf38b"
      },
      "source": [
        "import pandas as pd\n",
        "import numpy as np\n",
        "\n",
        "import os\n",
        "import datetime\n",
        "\n",
        "import tensorflow as tf\n",
        "from tensorflow.keras.models import Sequential\n",
        "from tensorflow.keras.layers import Conv2D, MaxPool2D, Dense, Flatten, Dropout\n",
        "from tensorflow.keras.utils import to_categorical\n",
        "\n",
        "%load_ext tensorboard\n",
        "\n",
        "import matplotlib.pyplot as plt\n",
        "from skimage import color, exposure\n",
        "from sklearn.metrics import accuracy_score\n",
        "\n",
        "from hyperopt import hp, STATUS_OK, tpe, Trials, fmin\n"
      ],
      "execution_count": 15,
      "outputs": [
        {
          "output_type": "stream",
          "text": [
            "The tensorboard extension is already loaded. To reload it, use:\n",
            "  %reload_ext tensorboard\n"
          ],
          "name": "stdout"
        }
      ]
    },
    {
      "cell_type": "code",
      "metadata": {
        "id": "_4NACv4GLDjO",
        "colab_type": "code",
        "colab": {
          "base_uri": "https://localhost:8080/",
          "height": 35
        },
        "outputId": "0f0c6272-ab65-4fd2-a549-18ead5ee02d6"
      },
      "source": [
        "cd '/content/drive/My Drive/Colab Notebooks/dw_matrix/matrix_three/dw_matrix_road_sign'"
      ],
      "execution_count": 3,
      "outputs": [
        {
          "output_type": "stream",
          "text": [
            "/content/drive/My Drive/Colab Notebooks/dw_matrix/matrix_three/dw_matrix_road_sign\n"
          ],
          "name": "stdout"
        }
      ]
    },
    {
      "cell_type": "code",
      "metadata": {
        "id": "dZ5hGMryLIlT",
        "colab_type": "code",
        "colab": {}
      },
      "source": [
        "train = pd.read_pickle('data/train.p') \n",
        "test = pd.read_pickle('data/test.p')\n",
        "\n",
        "X_train, y_train = train['features'], train['labels']\n",
        "X_test, y_test = test['features'], test['labels']"
      ],
      "execution_count": 0,
      "outputs": []
    },
    {
      "cell_type": "code",
      "metadata": {
        "id": "nYIINUjeLNDw",
        "colab_type": "code",
        "colab": {}
      },
      "source": [
        "if y_train.ndim == 1: y_train = to_categorical(y_train)\n",
        "if y_test.ndim == 1: y_test = to_categorical(y_test)"
      ],
      "execution_count": 0,
      "outputs": []
    },
    {
      "cell_type": "code",
      "metadata": {
        "id": "R--_4dpILSpV",
        "colab_type": "code",
        "colab": {}
      },
      "source": [
        "input_shape = X_train.shape[1:]\n",
        "num_classes = y_train.shape[1]"
      ],
      "execution_count": 0,
      "outputs": []
    },
    {
      "cell_type": "code",
      "metadata": {
        "id": "ZOrm5tl4LXfu",
        "colab_type": "code",
        "colab": {}
      },
      "source": [
        "def train_model(model, X_train, y_train, params_fit={}):\n",
        "  model.compile(loss='categorical_crossentropy', optimizer = 'Adam', metrics=['accuracy'])\n",
        "\n",
        "  logdir = os.path.join(\"logs\", datetime.datetime.now().strftime(\"%Y%m%d=%H%M%S\"))\n",
        "  tensorboard_callback = tf.keras.callbacks.TensorBoard(logdir, histogram_freq=1)\n",
        "\n",
        "  model.fit(X_train, y_train,\n",
        "            batch_size=params_fit.get('batch_size', 128),\n",
        "            epochs = params_fit.get('epochs', 5),\n",
        "            verbose = params_fit.get('verbose', 1),\n",
        "            validation_data = params_fit.get('validation_data', (X_train, y_train)),\n",
        "            callbacks = [tensorboard_callback]\n",
        "            )\n",
        "  \n",
        "  return model"
      ],
      "execution_count": 0,
      "outputs": []
    },
    {
      "cell_type": "code",
      "metadata": {
        "id": "3rcUv8PFLhfR",
        "colab_type": "code",
        "colab": {}
      },
      "source": [
        "def predict(model_trained, X_test, y_test, scoring=accuracy_score):\n",
        "  y_test_norm = np.argmax(y_test, axis=1)\n",
        "\n",
        "  y_pred_prob = model_trained.predict(X_test)\n",
        "  y_pred = np.argmax(y_pred_prob, axis=1)\n",
        "\n",
        "  return scoring(y_test_norm, y_pred)"
      ],
      "execution_count": 0,
      "outputs": []
    },
    {
      "cell_type": "code",
      "metadata": {
        "id": "YpW9aWxjLpYZ",
        "colab_type": "code",
        "colab": {}
      },
      "source": [
        "def get_cnn_v5(input_shape, num_classes):\n",
        "  return Sequential([\n",
        "  Conv2D(filters=32, kernel_size=(3,3), activation='relu', input_shape = input_shape),\n",
        "  Conv2D(filters=32, kernel_size=(3,3), activation='relu', padding = 'same'),\n",
        "  MaxPool2D(),\n",
        "  Dropout(0.3),\n",
        " \n",
        "  Conv2D(filters=64, kernel_size=(3,3), activation='relu', padding = 'same'),\n",
        "  Conv2D(filters=64, kernel_size=(3,3), activation='relu'),\n",
        "  MaxPool2D(),\n",
        "  Dropout(0.3),\n",
        "  \n",
        "  Conv2D(filters=64, kernel_size=(3,3), activation='relu', padding = 'same'),\n",
        "  Conv2D(filters=64, kernel_size=(3,3), activation='relu'),\n",
        "  MaxPool2D(),\n",
        "  Dropout(0.3),\n",
        "  Flatten(),\n",
        "\n",
        "  Dense(1024, activation = 'relu' ),\n",
        "  Dropout(0.3),\n",
        "\n",
        "  Dense(1024, activation = 'relu' ),\n",
        "  Dropout(0.3),\n",
        "\n",
        "  Dense(num_classes, activation = 'softmax' )  ])\n",
        "\n"
      ],
      "execution_count": 0,
      "outputs": []
    },
    {
      "cell_type": "code",
      "metadata": {
        "id": "EVAkIwetLxcy",
        "colab_type": "code",
        "colab": {
          "base_uri": "https://localhost:8080/",
          "height": 220
        },
        "outputId": "099a87d6-329a-4330-f327-b2b3cac3087b"
      },
      "source": [
        "model = get_cnn_v5(input_shape, num_classes)\n",
        "model_trained = train_model(model, X_train, y_train)\n",
        "\n",
        "predict(model_trained, X_test, y_test)"
      ],
      "execution_count": 10,
      "outputs": [
        {
          "output_type": "stream",
          "text": [
            "Epoch 1/5\n",
            "272/272 [==============================] - 13s 47ms/step - loss: 2.5700 - accuracy: 0.2938 - val_loss: 1.1567 - val_accuracy: 0.6714\n",
            "Epoch 2/5\n",
            "272/272 [==============================] - 12s 45ms/step - loss: 0.8743 - accuracy: 0.7190 - val_loss: 0.2484 - val_accuracy: 0.9209\n",
            "Epoch 3/5\n",
            "272/272 [==============================] - 12s 45ms/step - loss: 0.3988 - accuracy: 0.8740 - val_loss: 0.1013 - val_accuracy: 0.9676\n",
            "Epoch 4/5\n",
            "272/272 [==============================] - 12s 45ms/step - loss: 0.2585 - accuracy: 0.9210 - val_loss: 0.0519 - val_accuracy: 0.9853\n",
            "Epoch 5/5\n",
            "272/272 [==============================] - 12s 45ms/step - loss: 0.1865 - accuracy: 0.9439 - val_loss: 0.0412 - val_accuracy: 0.9872\n"
          ],
          "name": "stdout"
        },
        {
          "output_type": "execute_result",
          "data": {
            "text/plain": [
              "0.9589569160997733"
            ]
          },
          "metadata": {
            "tags": []
          },
          "execution_count": 10
        }
      ]
    },
    {
      "cell_type": "code",
      "metadata": {
        "id": "v5jBiYeuOvr8",
        "colab_type": "code",
        "colab": {
          "base_uri": "https://localhost:8080/",
          "height": 54
        },
        "outputId": "97c84284-b48b-4ab3-9fca-dde04d4c1148"
      },
      "source": [
        "model_trained.evaluate(X_test, y_test)[1]"
      ],
      "execution_count": 11,
      "outputs": [
        {
          "output_type": "stream",
          "text": [
            "138/138 [==============================] - 1s 6ms/step - loss: 0.2259 - accuracy: 0.9590\n"
          ],
          "name": "stdout"
        },
        {
          "output_type": "execute_result",
          "data": {
            "text/plain": [
              "0.9589568972587585"
            ]
          },
          "metadata": {
            "tags": []
          },
          "execution_count": 11
        }
      ]
    },
    {
      "cell_type": "code",
      "metadata": {
        "id": "aB0o6030o5ow",
        "colab_type": "code",
        "colab": {}
      },
      "source": [
        "def get_model(params):\n",
        "  return Sequential([\n",
        "  Conv2D(filters=32, kernel_size=(3,3), activation='relu', input_shape = input_shape),\n",
        "  Conv2D(filters=32, kernel_size=(3,3), activation='relu', padding = 'same'),\n",
        "  MaxPool2D(),\n",
        "  Dropout(params['dropout_cnn_block_one']),\n",
        " \n",
        "  Conv2D(filters=64, kernel_size=(3,3), activation='relu', padding = 'same'),\n",
        "  Conv2D(filters=64, kernel_size=(3,3), activation='relu'),\n",
        "  MaxPool2D(),\n",
        "  Dropout(params['dropout_cnn_block_two']),\n",
        "  \n",
        "  Conv2D(filters=128, kernel_size=(3,3), activation='relu', padding = 'same'),\n",
        "  Conv2D(filters=128, kernel_size=(3,3), activation='relu'),\n",
        "  MaxPool2D(),\n",
        "  Dropout(params['dropout_cnn_block_three']),\n",
        "  Flatten(),\n",
        "\n",
        "  Dense(1024, activation = 'relu' ),\n",
        "  Dropout(params['dropout_dense_block_one']),\n",
        "\n",
        "  Dense(1024, activation = 'relu' ),\n",
        "  Dropout(params['dropout_dense_block_two']),\n",
        "\n",
        "  Dense(num_classes, activation = 'softmax' )  ])\n"
      ],
      "execution_count": 0,
      "outputs": []
    },
    {
      "cell_type": "code",
      "metadata": {
        "id": "1tbPmTgKNCCH",
        "colab_type": "code",
        "colab": {}
      },
      "source": [
        "def func_obj(params):\n",
        "  model = get_model(params)\n",
        "  model.compile(loss='categorical_crossentropy', optimizer = 'Adam', metrics=['accuracy'])\n",
        "\n",
        "  model.fit(X_train, y_train,\n",
        "            batch_size=int(params.get('batch_size', 128)),\n",
        "            epochs = 5,\n",
        "            verbose = 0,\n",
        "            )\n",
        "  \n",
        "  score = model.evaluate(X_test, y_test, verbose=0)\n",
        "  accuracy = score[1]\n",
        "  print(params, 'accuracy={}'.format(accuracy))\n",
        "  \n",
        "  return {'loss': -accuracy, 'status': STATUS_OK, 'model': model}\n"
      ],
      "execution_count": 0,
      "outputs": []
    },
    {
      "cell_type": "code",
      "metadata": {
        "id": "sb2HEssjnDAd",
        "colab_type": "code",
        "colab": {
          "base_uri": "https://localhost:8080/",
          "height": 1000
        },
        "outputId": "85e89060-ef1d-41ea-8d3f-eabb5aa70753"
      },
      "source": [
        "space = {\n",
        "    'batch_size': hp.quniform('batch_size', 100, 200, 10),\n",
        "    'dropout_cnn_block_one': hp.uniform('dropout_cnn_block_one', 0.3, 0.5),\n",
        "    'dropout_cnn_block_two': hp.uniform('dropout_cnn_block_two', 0.3, 0.5),\n",
        "    'dropout_cnn_block_three': hp.uniform('dropout_cnn_block_three', 0.3, 0.5),\n",
        "\n",
        "    'dropout_dense_block_one': hp.uniform('dropout_dense_block_one', 0.3, 0.7),\n",
        "    'dropout_dense_block_two': hp.uniform('dropout_dense_block_two', 0.3, 0.7),\n",
        "}\n",
        "\n",
        "best = fmin(\n",
        "    func_obj,\n",
        "    space,\n",
        "    tpe.suggest,\n",
        "    30,\n",
        "    Trials()\n",
        ")"
      ],
      "execution_count": 29,
      "outputs": [
        {
          "output_type": "stream",
          "text": [
            "{'batch_size': 180.0, 'dropout_cnn_block_one': 0.4445240856343778, 'dropout_cnn_block_three': 0.3977332190869904, 'dropout_cnn_block_two': 0.37721105512383185, 'dropout_dense_block_one': 0.3405756177029631, 'dropout_dense_block_two': 0.6946579255911409}\n",
            "accuracy=0.8900226950645447\n",
            "{'batch_size': 130.0, 'dropout_cnn_block_one': 0.31972966834707744, 'dropout_cnn_block_three': 0.38157026493585955, 'dropout_cnn_block_two': 0.4547699913661386, 'dropout_dense_block_one': 0.6373351362471514, 'dropout_dense_block_two': 0.4884017475282456}\n",
            "accuracy=0.8755102157592773\n",
            "{'batch_size': 150.0, 'dropout_cnn_block_one': 0.49214724713661223, 'dropout_cnn_block_three': 0.36820409733159354, 'dropout_cnn_block_two': 0.48628092816671026, 'dropout_dense_block_one': 0.3422673029193197, 'dropout_dense_block_two': 0.585363483864481}\n",
            "accuracy=0.8625850081443787\n",
            "{'batch_size': 180.0, 'dropout_cnn_block_one': 0.4033086890831772, 'dropout_cnn_block_three': 0.32552136448123087, 'dropout_cnn_block_two': 0.48788991943631466, 'dropout_dense_block_one': 0.5151391034637145, 'dropout_dense_block_two': 0.4487714044947777}\n",
            "accuracy=0.9283446669578552\n",
            "{'batch_size': 130.0, 'dropout_cnn_block_one': 0.46087972726208026, 'dropout_cnn_block_three': 0.3555599031701825, 'dropout_cnn_block_two': 0.35727646752669656, 'dropout_dense_block_one': 0.42085676452058074, 'dropout_dense_block_two': 0.3756568511720062}\n",
            "accuracy=0.9496598839759827\n",
            "{'batch_size': 160.0, 'dropout_cnn_block_one': 0.3426644715297631, 'dropout_cnn_block_three': 0.38318077034044107, 'dropout_cnn_block_two': 0.3341415282223333, 'dropout_dense_block_one': 0.42362198950592633, 'dropout_dense_block_two': 0.5095764662215408}\n",
            "accuracy=0.9562358260154724\n",
            "{'batch_size': 180.0, 'dropout_cnn_block_one': 0.448148763514815, 'dropout_cnn_block_three': 0.36739519826302836, 'dropout_cnn_block_two': 0.47465977982543756, 'dropout_dense_block_one': 0.6107766248191744, 'dropout_dense_block_two': 0.5971446613614215}\n",
            "accuracy=0.8505668640136719\n",
            "{'batch_size': 100.0, 'dropout_cnn_block_one': 0.4886262870244158, 'dropout_cnn_block_three': 0.3993459079841671, 'dropout_cnn_block_two': 0.41980069499634365, 'dropout_dense_block_one': 0.3962361499830964, 'dropout_dense_block_two': 0.41840695291259467}\n",
            "accuracy=0.9090703129768372\n",
            "{'batch_size': 140.0, 'dropout_cnn_block_one': 0.3778753887201226, 'dropout_cnn_block_three': 0.4306410832116071, 'dropout_cnn_block_two': 0.3532198325476181, 'dropout_dense_block_one': 0.32136747090598466, 'dropout_dense_block_two': 0.5571948160690054}\n",
            "accuracy=0.9707483053207397\n",
            "{'batch_size': 110.0, 'dropout_cnn_block_one': 0.3246303919441985, 'dropout_cnn_block_three': 0.39361707326940476, 'dropout_cnn_block_two': 0.4859499610848478, 'dropout_dense_block_one': 0.6867641436478629, 'dropout_dense_block_two': 0.35969474852125627}\n",
            "accuracy=0.9235827922821045\n",
            "{'batch_size': 150.0, 'dropout_cnn_block_one': 0.46777065639300314, 'dropout_cnn_block_three': 0.47638536120799074, 'dropout_cnn_block_two': 0.3345393064410832, 'dropout_dense_block_one': 0.6873589659984829, 'dropout_dense_block_two': 0.49523624735294025}\n",
            "accuracy=0.8800453543663025\n",
            "{'batch_size': 160.0, 'dropout_cnn_block_one': 0.4563969561195056, 'dropout_cnn_block_three': 0.39268524673391864, 'dropout_cnn_block_two': 0.36376006586234855, 'dropout_dense_block_one': 0.3435651588083492, 'dropout_dense_block_two': 0.5143241632772206}\n",
            "accuracy=0.9448979496955872\n",
            "{'batch_size': 110.0, 'dropout_cnn_block_one': 0.37456971058281857, 'dropout_cnn_block_three': 0.3836562130225641, 'dropout_cnn_block_two': 0.34254794295044666, 'dropout_dense_block_one': 0.5700417829814135, 'dropout_dense_block_two': 0.46215129864149973}\n",
            "accuracy=0.9356009364128113\n",
            "{'batch_size': 120.0, 'dropout_cnn_block_one': 0.3393284558492771, 'dropout_cnn_block_three': 0.4818005085460517, 'dropout_cnn_block_two': 0.3775626233412714, 'dropout_dense_block_one': 0.4385455996171617, 'dropout_dense_block_two': 0.5087759222930902}\n",
            "accuracy=0.938095211982727\n",
            "{'batch_size': 180.0, 'dropout_cnn_block_one': 0.31415301547300367, 'dropout_cnn_block_three': 0.334468201679533, 'dropout_cnn_block_two': 0.3716020811883475, 'dropout_dense_block_one': 0.6733842703012365, 'dropout_dense_block_two': 0.6380580964266426}\n",
            "accuracy=0.9269841313362122\n",
            "{'batch_size': 150.0, 'dropout_cnn_block_one': 0.43107057667416104, 'dropout_cnn_block_three': 0.4099589687525252, 'dropout_cnn_block_two': 0.3240905941317502, 'dropout_dense_block_one': 0.6349874673146575, 'dropout_dense_block_two': 0.43200181717611197}\n",
            "accuracy=0.9539682269096375\n",
            "{'batch_size': 100.0, 'dropout_cnn_block_one': 0.4716366047486604, 'dropout_cnn_block_three': 0.33357874197989795, 'dropout_cnn_block_two': 0.4184992120092545, 'dropout_dense_block_one': 0.6175326824153125, 'dropout_dense_block_two': 0.44443438380946954}\n",
            "accuracy=0.9052154421806335\n",
            "{'batch_size': 190.0, 'dropout_cnn_block_one': 0.4552914263317984, 'dropout_cnn_block_three': 0.32627105719102645, 'dropout_cnn_block_two': 0.4552035197048523, 'dropout_dense_block_one': 0.6877618360135506, 'dropout_dense_block_two': 0.35170906160465265}\n",
            "accuracy=0.8594104051589966\n",
            "{'batch_size': 110.0, 'dropout_cnn_block_one': 0.31961785305094004, 'dropout_cnn_block_three': 0.35940689826677036, 'dropout_cnn_block_two': 0.37872593980312075, 'dropout_dense_block_one': 0.3481712080231785, 'dropout_dense_block_two': 0.6413554234818997}\n",
            "accuracy=0.9721088409423828\n",
            "{'batch_size': 190.0, 'dropout_cnn_block_one': 0.36212264713718306, 'dropout_cnn_block_three': 0.4998716097134095, 'dropout_cnn_block_two': 0.4365778601461687, 'dropout_dense_block_one': 0.5701383347518609, 'dropout_dense_block_two': 0.5599804269068291}\n",
            "accuracy=0.8619047403335571\n",
            "{'batch_size': 130.0, 'dropout_cnn_block_one': 0.3008649611683876, 'dropout_cnn_block_three': 0.4374453151630722, 'dropout_cnn_block_two': 0.3045477251854725, 'dropout_dense_block_one': 0.3100629461818545, 'dropout_dense_block_two': 0.6860540302897681}\n",
            "accuracy=0.9705215692520142\n",
            "{'batch_size': 140.0, 'dropout_cnn_block_one': 0.39670758168347076, 'dropout_cnn_block_three': 0.300594211375232, 'dropout_cnn_block_two': 0.39722912092106055, 'dropout_dense_block_one': 0.475886452027628, 'dropout_dense_block_two': 0.6462812665208004}\n",
            "accuracy=0.8925170302391052\n",
            "{'batch_size': 110.0, 'dropout_cnn_block_one': 0.37294344103149596, 'dropout_cnn_block_three': 0.42533386462622896, 'dropout_cnn_block_two': 0.3018951132668656, 'dropout_dense_block_one': 0.30021627826349245, 'dropout_dense_block_two': 0.3003176537701405}\n",
            "accuracy=0.9603174328804016\n",
            "{'batch_size': 120.0, 'dropout_cnn_block_one': 0.4117741139241709, 'dropout_cnn_block_three': 0.4515631249878258, 'dropout_cnn_block_two': 0.3951859022620395, 'dropout_dense_block_one': 0.3724863643729002, 'dropout_dense_block_two': 0.5540067170419085}\n",
            "accuracy=0.9446712136268616\n",
            "{'batch_size': 140.0, 'dropout_cnn_block_one': 0.3519437440144598, 'dropout_cnn_block_three': 0.4158826425415198, 'dropout_cnn_block_two': 0.35266797051590043, 'dropout_dense_block_one': 0.4738187176688404, 'dropout_dense_block_two': 0.6438589943688573}\n",
            "accuracy=0.9337868690490723\n",
            "{'batch_size': 160.0, 'dropout_cnn_block_one': 0.300645707349467, 'dropout_cnn_block_three': 0.46295483653954256, 'dropout_cnn_block_two': 0.413996760800116, 'dropout_dense_block_one': 0.377969573487531, 'dropout_dense_block_two': 0.6080722596923753}\n",
            "accuracy=0.9548752903938293\n",
            "{'batch_size': 120.0, 'dropout_cnn_block_one': 0.38264105439951274, 'dropout_cnn_block_three': 0.4411005027294887, 'dropout_cnn_block_two': 0.3872043597026692, 'dropout_dense_block_one': 0.30358471838964346, 'dropout_dense_block_two': 0.5476102380560334}\n",
            "accuracy=0.9537414908409119\n",
            "{'batch_size': 140.0, 'dropout_cnn_block_one': 0.4252850991248948, 'dropout_cnn_block_three': 0.30325144090832934, 'dropout_cnn_block_two': 0.31938217901588417, 'dropout_dense_block_one': 0.5260713012661351, 'dropout_dense_block_two': 0.6701212747827057}\n",
            "accuracy=0.9267573952674866\n",
            "{'batch_size': 170.0, 'dropout_cnn_block_one': 0.3390938334960609, 'dropout_cnn_block_three': 0.3498302670346445, 'dropout_cnn_block_two': 0.3819625818018664, 'dropout_dense_block_one': 0.32599416428973516, 'dropout_dense_block_two': 0.696615913371596}\n",
            "accuracy=0.9251700639724731\n",
            "{'batch_size': 100.0, 'dropout_cnn_block_one': 0.39515377968746546, 'dropout_cnn_block_three': 0.4214703147252181, 'dropout_cnn_block_two': 0.4089288385847625, 'dropout_dense_block_one': 0.3659935819574184, 'dropout_dense_block_two': 0.6121539648070939}\n",
            "accuracy=0.9680272340774536\n",
            "100%|██████████| 30/30 [22:31<00:00, 45.06s/it, best loss: -0.9721088409423828]\n"
          ],
          "name": "stdout"
        }
      ]
    },
    {
      "cell_type": "code",
      "metadata": {
        "id": "Og3mxkZOodk9",
        "colab_type": "code",
        "colab": {}
      },
      "source": [
        ""
      ],
      "execution_count": 0,
      "outputs": []
    }
  ]
}